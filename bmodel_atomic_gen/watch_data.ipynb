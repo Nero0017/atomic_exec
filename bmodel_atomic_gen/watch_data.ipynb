{
 "cells": [
  {
   "cell_type": "code",
   "execution_count": 10,
   "metadata": {},
   "outputs": [],
   "source": [
    "import numpy as np"
   ]
  },
  {
   "cell_type": "code",
   "execution_count": 11,
   "metadata": {},
   "outputs": [
    {
     "data": {
      "text/plain": [
       "array([[[[ 0.,  1.,  2.,  3.],\n",
       "         [ 4.,  5.,  6.,  7.],\n",
       "         [ 8.,  9., 10., 11.],\n",
       "         [12., 13., 14., 15.]]]], dtype=float32)"
      ]
     },
     "execution_count": 11,
     "metadata": {},
     "output_type": "execute_result"
    }
   ],
   "source": [
    "np.load(\"./conv_workspace/conv_in_f32.npz\")['input.1']"
   ]
  },
  {
   "cell_type": "code",
   "execution_count": 12,
   "metadata": {},
   "outputs": [
    {
     "data": {
      "text/plain": [
       "array([0., 1., 2., 3.], dtype=float32)"
      ]
     },
     "execution_count": 12,
     "metadata": {},
     "output_type": "execute_result"
    }
   ],
   "source": [
    "np.load(\"./conv_workspace/conv_tpu_addressed_bm1684x_f32_weight.npz\")['weight'].reshape(-1)"
   ]
  },
  {
   "cell_type": "code",
   "execution_count": null,
   "metadata": {},
   "outputs": [],
   "source": []
  },
  {
   "cell_type": "code",
   "execution_count": 14,
   "metadata": {},
   "outputs": [
    {
     "data": {
      "text/plain": [
       "array([24., 30., 36., 48., 54., 60., 72., 78., 84.], dtype=float32)"
      ]
     },
     "execution_count": 14,
     "metadata": {},
     "output_type": "execute_result"
    }
   ],
   "source": [
    "np.load(\"./conv_workspace/conv_bm1684x_f32_model_outputs.npz\")['2_Conv'].reshape(-1)"
   ]
  },
  {
   "cell_type": "code",
   "execution_count": 4,
   "metadata": {},
   "outputs": [],
   "source": []
  },
  {
   "cell_type": "code",
   "execution_count": 6,
   "metadata": {},
   "outputs": [],
   "source": []
  },
  {
   "cell_type": "code",
   "execution_count": 8,
   "metadata": {},
   "outputs": [],
   "source": []
  },
  {
   "cell_type": "code",
   "execution_count": 12,
   "metadata": {},
   "outputs": [
    {
     "name": "stdout",
     "output_type": "stream",
     "text": [
      "module attributes {chip = \"BM1684X\", version = 2.2} {\n",
      "  func.func @conv(%G8192: memref<1x3x5x5xf32, strides: [75, 25, 5, 1]>) -> (memref<1x2x3x3xf32, strides: [18, 9, 3, 1]>) ({\n",
      "    ^bb0(%G8192: memref<1x3x5x5xf32, strides: [75, 25, 5, 1]>)    //  run_mode=TPU_STATIC\n",
      "      %R0, %D1 = \"dma.tensor\"(%G0, %B0) {decompress = False} : (memref<1x2x27x1xf32, strides: [54, 27, 1, 1]>, none) -> (memref<1x2x27x1xf32, strides: [27, 27, 1, 1]>, none)\n",
      "      %R0.128, %D2 = \"dma.tensor\"(%G4096, %B0) {decompress = False} : (memref<1x2x1x1xf32, strides: [2, 1, 1, 1]>, none) -> (memref<1x2x1x1xf32, strides: [1, 1, 1, 1]>, none)\n",
      "      %R1, %D3 = \"dma.tensor\"(%G8192, %B0) {decompress = False} : (memref<1x3x5x5xf32, strides: [75, 25, 5, 1]>, none) -> (memref<1x3x5x5xf32, strides: [32, 32, 5, 1]>, none)\n",
      "      %R3, %B1 = \"conv.normal\"(%R1, %R0, %R0.128, %C0.0, %D3) {kernel = [3, 3], stride = [1, 1], in_zero = [0, 0], ke_zero = [0, 0], kernel_rotate = False, pad_mode = 0, pad = [0, 0, 0, 0], res_add = False} : (memref<1x3x5x5xf32, strides: [32, 32, 5, 1]>, memref<2x3x3x3xf32>, memref<1x2x1x1xf32, strides: [1, 1, 1, 1]>, f32, none) -> (memref<1x2x3x3xf32, strides: [16, 16, 3, 1]>, none)\n",
      "      %G12288, %D4 = \"dma.tensor\"(%R3, %B1) {decompress = False} : (memref<1x2x3x3xf32, strides: [16, 16, 3, 1]>, none) -> (memref<1x2x3x3xf32, strides: [18, 9, 3, 1]>, none)\n",
      "      return %G12288: memref<1x2x3x3xf32, strides: [18, 9, 3, 1]>\n",
      "  }) {function_type = {arg_attrs = [\"input.1\"], res_attrs = [\"3_Conv\"]}}\n",
      "} loc(#loc)\n"
     ]
    }
   ],
   "source": []
  },
  {
   "cell_type": "code",
   "execution_count": null,
   "metadata": {},
   "outputs": [],
   "source": []
  }
 ],
 "metadata": {
  "kernelspec": {
   "display_name": "Python 3",
   "language": "python",
   "name": "python3"
  },
  "language_info": {
   "codemirror_mode": {
    "name": "ipython",
    "version": 3
   },
   "file_extension": ".py",
   "mimetype": "text/x-python",
   "name": "python",
   "nbconvert_exporter": "python",
   "pygments_lexer": "ipython3",
   "version": "3.10.12"
  },
  "orig_nbformat": 4
 },
 "nbformat": 4,
 "nbformat_minor": 2
}
