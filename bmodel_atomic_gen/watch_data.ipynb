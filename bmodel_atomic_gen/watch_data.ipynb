{
 "cells": [
  {
   "cell_type": "code",
   "execution_count": 10,
   "metadata": {},
   "outputs": [],
   "source": [
    "import numpy as np"
   ]
  },
  {
   "cell_type": "code",
   "execution_count": 11,
   "metadata": {},
   "outputs": [
    {
     "data": {
      "text/plain": [
       "array([[[[ 0.,  1.,  2.,  3.],\n",
       "         [ 4.,  5.,  6.,  7.],\n",
       "         [ 8.,  9., 10., 11.],\n",
       "         [12., 13., 14., 15.]]]], dtype=float32)"
      ]
     },
     "execution_count": 11,
     "metadata": {},
     "output_type": "execute_result"
    }
   ],
   "source": [
    "np.load(\"./conv_workspace/conv_in_f32.npz\")['input.1']"
   ]
  },
  {
   "cell_type": "code",
   "execution_count": 12,
   "metadata": {},
   "outputs": [
    {
     "data": {
      "text/plain": [
       "array([0., 1., 2., 3.], dtype=float32)"
      ]
     },
     "execution_count": 12,
     "metadata": {},
     "output_type": "execute_result"
    }
   ],
   "source": [
    "np.load(\"./conv_workspace/conv_tpu_addressed_bm1684x_f32_weight.npz\")['weight'].reshape(-1)"
   ]
  },
  {
   "cell_type": "code",
   "execution_count": 10,
   "metadata": {},
   "outputs": [
    {
     "data": {
      "text/plain": [
       "23"
      ]
     },
     "execution_count": 10,
     "metadata": {},
     "output_type": "execute_result"
    }
   ],
   "source": [
    "32-9"
   ]
  },
  {
   "cell_type": "code",
   "execution_count": 56,
   "metadata": {},
   "outputs": [
    {
     "data": {
      "text/plain": [
       "64"
      ]
     },
     "execution_count": 56,
     "metadata": {},
     "output_type": "execute_result"
    }
   ],
   "source": [
    "1 + 20 + 20 + (9  + 3 + 6 + 4 + 1)"
   ]
  },
  {
   "cell_type": "code",
   "execution_count": 72,
   "metadata": {},
   "outputs": [
    {
     "name": "stdout",
     "output_type": "stream",
     "text": [
      "111111111111111111111111111111111111111111111111111111111111111 64\n"
     ]
    }
   ],
   "source": [
    "res = bin((0xFFFFFFFFFFFFFFFF))\n",
    "print(res[3:], len(res[2:]))"
   ]
  },
  {
   "cell_type": "code",
   "execution_count": 104,
   "metadata": {},
   "outputs": [
    {
     "name": "stdout",
     "output_type": "stream",
     "text": [
      "100000000000000000000111111111111111111111111111111111111111111 64\n"
     ]
    }
   ],
   "source": [
    "res = bin((0xFFFFFFFFFFFFFFFF - ((1 << 62) - 1) + ((1 << 42) - 1)))\n",
    "print(res[3:], len(res[2:]))"
   ]
  },
  {
   "cell_type": "code",
   "execution_count": 109,
   "metadata": {},
   "outputs": [
    {
     "data": {
      "text/plain": [
       "'0b1100000000000000000000'"
      ]
     },
     "execution_count": 109,
     "metadata": {},
     "output_type": "execute_result"
    }
   ],
   "source": [
    "bin(((0xFFFFFFFFFFFFFFFF - ((1 << 62) - 1) + ((1 << 42) - 1)) >> 42 ))"
   ]
  },
  {
   "cell_type": "code",
   "execution_count": 100,
   "metadata": {},
   "outputs": [],
   "source": [
    "cmd = (0xFFFFFFFFFFFFFFFF - ((1 << 62) - 1) + ((1 << 42) - 1))"
   ]
  },
  {
   "cell_type": "code",
   "execution_count": 114,
   "metadata": {},
   "outputs": [
    {
     "data": {
      "text/plain": [
       "'0b11111111100000000000000000000'"
      ]
     },
     "execution_count": 114,
     "metadata": {},
     "output_type": "execute_result"
    }
   ],
   "source": [
    "bin((((0xFFFFFFFF - ((1 << 23) - 1)) + ((1 << 3) - 1))) >> 3)"
   ]
  },
  {
   "cell_type": "code",
   "execution_count": 123,
   "metadata": {},
   "outputs": [
    {
     "data": {
      "text/plain": [
       "'00000000000000000000001000100110'"
      ]
     },
     "execution_count": 123,
     "metadata": {},
     "output_type": "execute_result"
    }
   ],
   "source": [
    "bin(0b1000100110)[2:].rjust(32,'0')"
   ]
  },
  {
   "cell_type": "code",
   "execution_count": 99,
   "metadata": {},
   "outputs": [
    {
     "data": {
      "text/plain": [
       "'0b1100000000000000000010111111111111111111111111111111111111111111'"
      ]
     },
     "execution_count": 99,
     "metadata": {},
     "output_type": "execute_result"
    }
   ],
   "source": [
    "bin(cmd + (2<<42))"
   ]
  },
  {
   "cell_type": "code",
   "execution_count": 81,
   "metadata": {},
   "outputs": [
    {
     "name": "stdout",
     "output_type": "stream",
     "text": [
      "111111111111111111111000000000000000000001111111111111111111111 64\n"
     ]
    }
   ],
   "source": [
    "res = bin((0xFFFFFFFFFFFFFFFF - ((1 << 42) - 1) + ((1 << 22) - 1)))\n",
    "print(res[3:], len(res[2:]))"
   ]
  },
  {
   "cell_type": "code",
   "execution_count": 90,
   "metadata": {},
   "outputs": [
    {
     "data": {
      "text/plain": [
       "'11111111111111111111'"
      ]
     },
     "execution_count": 90,
     "metadata": {},
     "output_type": "execute_result"
    }
   ],
   "source": [
    "bin(((1 << 20) - 1))[2:]"
   ]
  },
  {
   "cell_type": "code",
   "execution_count": 91,
   "metadata": {},
   "outputs": [
    {
     "data": {
      "text/plain": [
       "20"
      ]
     },
     "execution_count": 91,
     "metadata": {},
     "output_type": "execute_result"
    }
   ],
   "source": [
    "len(\"11111111111111111111\")"
   ]
  },
  {
   "cell_type": "code",
   "execution_count": 130,
   "metadata": {},
   "outputs": [
    {
     "data": {
      "text/plain": [
       "550"
      ]
     },
     "execution_count": 130,
     "metadata": {},
     "output_type": "execute_result"
    }
   ],
   "source": [
    "0b10000100110\n",
    "0b01000100110"
   ]
  },
  {
   "cell_type": "code",
   "execution_count": 126,
   "metadata": {},
   "outputs": [
    {
     "data": {
      "text/plain": [
       "550"
      ]
     },
     "execution_count": 126,
     "metadata": {},
     "output_type": "execute_result"
    }
   ],
   "source": []
  },
  {
   "cell_type": "code",
   "execution_count": 16,
   "metadata": {},
   "outputs": [
    {
     "data": {
      "text/plain": [
       "19"
      ]
     },
     "execution_count": 16,
     "metadata": {},
     "output_type": "execute_result"
    }
   ],
   "source": [
    "len('0000000000000000000')"
   ]
  },
  {
   "cell_type": "code",
   "execution_count": 14,
   "metadata": {},
   "outputs": [
    {
     "data": {
      "text/plain": [
       "array([24., 30., 36., 48., 54., 60., 72., 78., 84.], dtype=float32)"
      ]
     },
     "execution_count": 14,
     "metadata": {},
     "output_type": "execute_result"
    }
   ],
   "source": [
    "np.load(\"./conv_workspace/conv_bm1684x_f32_model_outputs.npz\")['2_Conv'].reshape(-1)"
   ]
  },
  {
   "cell_type": "code",
   "execution_count": 4,
   "metadata": {},
   "outputs": [],
   "source": []
  },
  {
   "cell_type": "code",
   "execution_count": 6,
   "metadata": {},
   "outputs": [],
   "source": []
  },
  {
   "cell_type": "code",
   "execution_count": 8,
   "metadata": {},
   "outputs": [],
   "source": []
  },
  {
   "cell_type": "code",
   "execution_count": 12,
   "metadata": {},
   "outputs": [
    {
     "name": "stdout",
     "output_type": "stream",
     "text": [
      "module attributes {chip = \"BM1684X\", version = 2.2} {\n",
      "  func.func @conv(%G8192: memref<1x3x5x5xf32, strides: [75, 25, 5, 1]>) -> (memref<1x2x3x3xf32, strides: [18, 9, 3, 1]>) ({\n",
      "    ^bb0(%G8192: memref<1x3x5x5xf32, strides: [75, 25, 5, 1]>)    //  run_mode=TPU_STATIC\n",
      "      %R0, %D1 = \"dma.tensor\"(%G0, %B0) {decompress = False} : (memref<1x2x27x1xf32, strides: [54, 27, 1, 1]>, none) -> (memref<1x2x27x1xf32, strides: [27, 27, 1, 1]>, none)\n",
      "      %R0.128, %D2 = \"dma.tensor\"(%G4096, %B0) {decompress = False} : (memref<1x2x1x1xf32, strides: [2, 1, 1, 1]>, none) -> (memref<1x2x1x1xf32, strides: [1, 1, 1, 1]>, none)\n",
      "      %R1, %D3 = \"dma.tensor\"(%G8192, %B0) {decompress = False} : (memref<1x3x5x5xf32, strides: [75, 25, 5, 1]>, none) -> (memref<1x3x5x5xf32, strides: [32, 32, 5, 1]>, none)\n",
      "      %R3, %B1 = \"conv.normal\"(%R1, %R0, %R0.128, %C0.0, %D3) {kernel = [3, 3], stride = [1, 1], in_zero = [0, 0], ke_zero = [0, 0], kernel_rotate = False, pad_mode = 0, pad = [0, 0, 0, 0], res_add = False} : (memref<1x3x5x5xf32, strides: [32, 32, 5, 1]>, memref<2x3x3x3xf32>, memref<1x2x1x1xf32, strides: [1, 1, 1, 1]>, f32, none) -> (memref<1x2x3x3xf32, strides: [16, 16, 3, 1]>, none)\n",
      "      %G12288, %D4 = \"dma.tensor\"(%R3, %B1) {decompress = False} : (memref<1x2x3x3xf32, strides: [16, 16, 3, 1]>, none) -> (memref<1x2x3x3xf32, strides: [18, 9, 3, 1]>, none)\n",
      "      return %G12288: memref<1x2x3x3xf32, strides: [18, 9, 3, 1]>\n",
      "  }) {function_type = {arg_attrs = [\"input.1\"], res_attrs = [\"3_Conv\"]}}\n",
      "} loc(#loc)\n"
     ]
    }
   ],
   "source": []
  },
  {
   "cell_type": "code",
   "execution_count": null,
   "metadata": {},
   "outputs": [],
   "source": []
  }
 ],
 "metadata": {
  "kernelspec": {
   "display_name": "Python 3",
   "language": "python",
   "name": "python3"
  },
  "language_info": {
   "codemirror_mode": {
    "name": "ipython",
    "version": 3
   },
   "file_extension": ".py",
   "mimetype": "text/x-python",
   "name": "python",
   "nbconvert_exporter": "python",
   "pygments_lexer": "ipython3",
   "version": "3.10.12"
  },
  "orig_nbformat": 4
 },
 "nbformat": 4,
 "nbformat_minor": 2
}
